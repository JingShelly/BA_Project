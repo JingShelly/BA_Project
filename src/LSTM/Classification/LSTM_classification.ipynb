{
 "cells": [
  {
   "cell_type": "code",
   "execution_count": 32,
   "id": "168698d1",
   "metadata": {},
   "outputs": [],
   "source": [
    "import pandas as pd\n",
    "import yfinance as yf\n",
    "import numpy as np\n",
    "from sklearn.preprocessing import MinMaxScaler\n",
    "from sklearn.metrics import (\n",
    "    accuracy_score, \n",
    "    precision_score, \n",
    "    recall_score, \n",
    "    f1_score, \n",
    "    roc_auc_score, \n",
    "    confusion_matrix\n",
    ")\n",
    "\n",
    "from tensorflow.keras.models import Sequential\n",
    "from tensorflow.keras.callbacks import ModelCheckpoint\n",
    "from tensorflow.keras.losses import MeanSquaredError\n",
    "from tensorflow.keras.metrics import RootMeanSquaredError\n",
    "from tensorflow.keras.optimizers import Adam\n",
    "from tensorflow.keras.layers import LSTM, Dense, Dropout\n",
    "from tensorflow.keras import layers\n",
    "from tensorflow.keras.models import load_model\n",
    "from tensorflow.keras.callbacks import EarlyStopping\n",
    "from tensorflow.keras.regularizers import l2\n",
    "\n",
    "\n",
    "import matplotlib.pyplot as plt\n",
    "from sklearn.metrics import mean_absolute_error\n",
    "from sklearn.metrics import mean_squared_error\n",
    "import ETFs as etfs"
   ]
  },
  {
   "cell_type": "code",
   "execution_count": 21,
   "id": "fbc33a1e",
   "metadata": {},
   "outputs": [],
   "source": [
    "data = pd.read_csv('../../dataProcessing/assets_filled.csv', parse_dates=['Date'])\n",
    "data['Date'] = pd.to_datetime(data['Date'])\n",
    "data.set_index('Date', inplace=True)\n",
    "# display(data)"
   ]
  },
  {
   "cell_type": "code",
   "execution_count": 22,
   "id": "7343c68c",
   "metadata": {},
   "outputs": [],
   "source": [
    "binary_targets = pd.read_csv('../../dataProcessing/target_binary.csv', parse_dates=['Date'])\n",
    "binary_targets.set_index('Date', inplace=True)"
   ]
  },
  {
   "cell_type": "markdown",
   "id": "77e47626",
   "metadata": {},
   "source": [
    "## Test data correctness"
   ]
  },
  {
   "cell_type": "code",
   "execution_count": 23,
   "id": "ecaec002",
   "metadata": {},
   "outputs": [
    {
     "data": {
      "text/html": [
       "<div>\n",
       "<style scoped>\n",
       "    .dataframe tbody tr th:only-of-type {\n",
       "        vertical-align: middle;\n",
       "    }\n",
       "\n",
       "    .dataframe tbody tr th {\n",
       "        vertical-align: top;\n",
       "    }\n",
       "\n",
       "    .dataframe thead th {\n",
       "        text-align: right;\n",
       "    }\n",
       "</style>\n",
       "<table border=\"1\" class=\"dataframe\">\n",
       "  <thead>\n",
       "    <tr style=\"text-align: right;\">\n",
       "      <th></th>\n",
       "      <th>Close_yesterday</th>\n",
       "      <th>Close Tody</th>\n",
       "      <th>Target</th>\n",
       "    </tr>\n",
       "    <tr>\n",
       "      <th>Date</th>\n",
       "      <th></th>\n",
       "      <th></th>\n",
       "      <th></th>\n",
       "    </tr>\n",
       "  </thead>\n",
       "  <tbody>\n",
       "    <tr>\n",
       "      <th>2012-01-03</th>\n",
       "      <td>NaN</td>\n",
       "      <td>100.450684</td>\n",
       "      <td>0</td>\n",
       "    </tr>\n",
       "    <tr>\n",
       "      <th>2012-01-04</th>\n",
       "      <td>100.450684</td>\n",
       "      <td>100.608261</td>\n",
       "      <td>1</td>\n",
       "    </tr>\n",
       "    <tr>\n",
       "      <th>2012-01-05</th>\n",
       "      <td>100.608261</td>\n",
       "      <td>100.876129</td>\n",
       "      <td>1</td>\n",
       "    </tr>\n",
       "    <tr>\n",
       "      <th>2012-01-06</th>\n",
       "      <td>100.876129</td>\n",
       "      <td>100.616127</td>\n",
       "      <td>0</td>\n",
       "    </tr>\n",
       "    <tr>\n",
       "      <th>2012-01-09</th>\n",
       "      <td>100.616127</td>\n",
       "      <td>100.860359</td>\n",
       "      <td>1</td>\n",
       "    </tr>\n",
       "    <tr>\n",
       "      <th>...</th>\n",
       "      <td>...</td>\n",
       "      <td>...</td>\n",
       "      <td>...</td>\n",
       "    </tr>\n",
       "    <tr>\n",
       "      <th>2025-03-24</th>\n",
       "      <td>563.979980</td>\n",
       "      <td>574.080017</td>\n",
       "      <td>1</td>\n",
       "    </tr>\n",
       "    <tr>\n",
       "      <th>2025-03-25</th>\n",
       "      <td>574.080017</td>\n",
       "      <td>575.460022</td>\n",
       "      <td>1</td>\n",
       "    </tr>\n",
       "    <tr>\n",
       "      <th>2025-03-26</th>\n",
       "      <td>575.460022</td>\n",
       "      <td>568.590027</td>\n",
       "      <td>0</td>\n",
       "    </tr>\n",
       "    <tr>\n",
       "      <th>2025-03-27</th>\n",
       "      <td>568.590027</td>\n",
       "      <td>567.080017</td>\n",
       "      <td>0</td>\n",
       "    </tr>\n",
       "    <tr>\n",
       "      <th>2025-03-28</th>\n",
       "      <td>567.080017</td>\n",
       "      <td>555.659973</td>\n",
       "      <td>0</td>\n",
       "    </tr>\n",
       "  </tbody>\n",
       "</table>\n",
       "<p>3408 rows × 3 columns</p>\n",
       "</div>"
      ],
      "text/plain": [
       "            Close_yesterday  Close Tody  Target\n",
       "Date                                           \n",
       "2012-01-03              NaN  100.450684       0\n",
       "2012-01-04       100.450684  100.608261       1\n",
       "2012-01-05       100.608261  100.876129       1\n",
       "2012-01-06       100.876129  100.616127       0\n",
       "2012-01-09       100.616127  100.860359       1\n",
       "...                     ...         ...     ...\n",
       "2025-03-24       563.979980  574.080017       1\n",
       "2025-03-25       574.080017  575.460022       1\n",
       "2025-03-26       575.460022  568.590027       0\n",
       "2025-03-27       568.590027  567.080017       0\n",
       "2025-03-28       567.080017  555.659973       0\n",
       "\n",
       "[3408 rows x 3 columns]"
      ]
     },
     "metadata": {},
     "output_type": "display_data"
    }
   ],
   "source": [
    "test_df = pd.DataFrame({'Close_yesterday': data['SPY'].shift(1),'Close Tody':data['SPY'],'Target': binary_targets['SPY']})\n",
    "display(test_df)"
   ]
  },
  {
   "cell_type": "code",
   "execution_count": 24,
   "id": "fa7a711e",
   "metadata": {},
   "outputs": [],
   "source": [
    "dataset_size = len(data)\n",
    "train_size = int(dataset_size * 0.8)\n",
    "test_size = int(dataset_size * 0.1)\n",
    "val_size = dataset_size - train_size - test_size\n",
    "\n",
    "train_data = data.iloc[:train_size]\n",
    "val_data = data.iloc[train_size:train_size + val_size]\n",
    "test_data = data.iloc[train_size + val_size:]\n",
    "\n",
    "binary_targets_train = binary_targets.iloc[:train_size]\n",
    "binary_targets_val = binary_targets.iloc[train_size:train_size + val_size]\n",
    "binary_targets_test = binary_targets.iloc[train_size + val_size:]\n"
   ]
  },
  {
   "cell_type": "code",
   "execution_count": 25,
   "id": "502c82b6",
   "metadata": {},
   "outputs": [
    {
     "data": {
      "text/plain": [
       "((2696, 30, 33),\n",
       " (2696, 33),\n",
       " (312, 30, 33),\n",
       " (312, 33),\n",
       " (310, 30, 33),\n",
       " (310, 33),\n",
       " (2696, 33),\n",
       " (312, 33),\n",
       " (310, 33))"
      ]
     },
     "execution_count": 25,
     "metadata": {},
     "output_type": "execute_result"
    }
   ],
   "source": [
    "def create_X_y_rolling(df, target_label, window_size):\n",
    "    X, y, labels, first_values = [], [], [], []\n",
    "    for i in range(len(df) - window_size):\n",
    "        window = df.iloc[i:i+window_size]\n",
    "        first_value = window.iloc[0]\n",
    "        normalized_window = window / first_value  \n",
    "        X.append(normalized_window.values)\n",
    "        \n",
    "        y_target = df.iloc[i+window_size] / first_value  \n",
    "        y.append(y_target.values)\n",
    "        \n",
    "        l = target_label.iloc[i+window_size]\n",
    "        labels.append(l)\n",
    "        \n",
    "        first_values.append(first_value.values) \n",
    "        \n",
    "    X = np.array(X)\n",
    "    y = np.array(y)\n",
    "    first_values = np.array(first_values)\n",
    "    labels = np.array(labels)\n",
    "    return X, y, first_values, labels\n",
    "\n",
    "window_size = 30\n",
    "\n",
    "\n",
    "X_train, y_train, first_values_train, labels_train = create_X_y_rolling(train_data, binary_targets_train, window_size)\n",
    "X_val, y_val, first_values_val, labels_val = create_X_y_rolling(val_data, binary_targets_val, window_size)\n",
    "X_test, y_test, first_values_test, labels_test = create_X_y_rolling(test_data, binary_targets_test, window_size)\n",
    "\n",
    "X_train.shape, y_train.shape, X_val.shape, y_val.shape, X_test.shape, y_test.shape, labels_train.shape, labels_val.shape, labels_test.shape\n"
   ]
  },
  {
   "cell_type": "code",
   "execution_count": 26,
   "id": "10eff647",
   "metadata": {},
   "outputs": [
    {
     "name": "stderr",
     "output_type": "stream",
     "text": [
      "c:\\Users\\Shelly\\Desktop\\BachelorProject\\BAvenv\\Lib\\site-packages\\keras\\src\\layers\\rnn\\rnn.py:199: UserWarning: Do not pass an `input_shape`/`input_dim` argument to a layer. When using Sequential models, prefer using an `Input(shape)` object as the first layer in the model instead.\n",
      "  super().__init__(**kwargs)\n"
     ]
    },
    {
     "name": "stdout",
     "output_type": "stream",
     "text": [
      "Epoch 1/100\n",
      "\u001b[1m43/43\u001b[0m \u001b[32m━━━━━━━━━━━━━━━━━━━━\u001b[0m\u001b[37m\u001b[0m \u001b[1m29s\u001b[0m 201ms/step - binary_accuracy: 0.5361 - loss: 0.7486 - val_binary_accuracy: 0.5049 - val_loss: 0.7619\n",
      "Epoch 2/100\n",
      "\u001b[1m43/43\u001b[0m \u001b[32m━━━━━━━━━━━━━━━━━━━━\u001b[0m\u001b[37m\u001b[0m \u001b[1m7s\u001b[0m 118ms/step - binary_accuracy: 0.5471 - loss: 0.7326 - val_binary_accuracy: 0.5035 - val_loss: 0.7608\n",
      "Epoch 3/100\n",
      "\u001b[1m43/43\u001b[0m \u001b[32m━━━━━━━━━━━━━━━━━━━━\u001b[0m\u001b[37m\u001b[0m \u001b[1m5s\u001b[0m 104ms/step - binary_accuracy: 0.5536 - loss: 0.7240 - val_binary_accuracy: 0.5034 - val_loss: 0.7606\n",
      "Epoch 4/100\n",
      "\u001b[1m43/43\u001b[0m \u001b[32m━━━━━━━━━━━━━━━━━━━━\u001b[0m\u001b[37m\u001b[0m \u001b[1m6s\u001b[0m 114ms/step - binary_accuracy: 0.5537 - loss: 0.7170 - val_binary_accuracy: 0.5052 - val_loss: 0.7573\n",
      "Epoch 5/100\n",
      "\u001b[1m43/43\u001b[0m \u001b[32m━━━━━━━━━━━━━━━━━━━━\u001b[0m\u001b[37m\u001b[0m \u001b[1m6s\u001b[0m 117ms/step - binary_accuracy: 0.5519 - loss: 0.7130 - val_binary_accuracy: 0.5051 - val_loss: 0.7547\n",
      "Epoch 6/100\n",
      "\u001b[1m43/43\u001b[0m \u001b[32m━━━━━━━━━━━━━━━━━━━━\u001b[0m\u001b[37m\u001b[0m \u001b[1m9s\u001b[0m 181ms/step - binary_accuracy: 0.5534 - loss: 0.7093 - val_binary_accuracy: 0.5049 - val_loss: 0.7542\n",
      "Epoch 7/100\n",
      "\u001b[1m43/43\u001b[0m \u001b[32m━━━━━━━━━━━━━━━━━━━━\u001b[0m\u001b[37m\u001b[0m \u001b[1m8s\u001b[0m 145ms/step - binary_accuracy: 0.5547 - loss: 0.7052 - val_binary_accuracy: 0.5022 - val_loss: 0.7520\n",
      "Epoch 8/100\n",
      "\u001b[1m43/43\u001b[0m \u001b[32m━━━━━━━━━━━━━━━━━━━━\u001b[0m\u001b[37m\u001b[0m \u001b[1m8s\u001b[0m 130ms/step - binary_accuracy: 0.5548 - loss: 0.7029 - val_binary_accuracy: 0.5061 - val_loss: 0.7499\n",
      "Epoch 9/100\n",
      "\u001b[1m43/43\u001b[0m \u001b[32m━━━━━━━━━━━━━━━━━━━━\u001b[0m\u001b[37m\u001b[0m \u001b[1m7s\u001b[0m 122ms/step - binary_accuracy: 0.5517 - loss: 0.7010 - val_binary_accuracy: 0.5047 - val_loss: 0.7491\n",
      "Epoch 10/100\n",
      "\u001b[1m43/43\u001b[0m \u001b[32m━━━━━━━━━━━━━━━━━━━━\u001b[0m\u001b[37m\u001b[0m \u001b[1m6s\u001b[0m 129ms/step - binary_accuracy: 0.5519 - loss: 0.6972 - val_binary_accuracy: 0.5058 - val_loss: 0.7472\n",
      "Epoch 11/100\n",
      "\u001b[1m43/43\u001b[0m \u001b[32m━━━━━━━━━━━━━━━━━━━━\u001b[0m\u001b[37m\u001b[0m \u001b[1m9s\u001b[0m 149ms/step - binary_accuracy: 0.5558 - loss: 0.6921 - val_binary_accuracy: 0.5018 - val_loss: 0.7438\n",
      "Epoch 12/100\n",
      "\u001b[1m43/43\u001b[0m \u001b[32m━━━━━━━━━━━━━━━━━━━━\u001b[0m\u001b[37m\u001b[0m \u001b[1m9s\u001b[0m 161ms/step - binary_accuracy: 0.5501 - loss: 0.6920 - val_binary_accuracy: 0.5015 - val_loss: 0.7430\n",
      "Epoch 13/100\n",
      "\u001b[1m43/43\u001b[0m \u001b[32m━━━━━━━━━━━━━━━━━━━━\u001b[0m\u001b[37m\u001b[0m \u001b[1m6s\u001b[0m 126ms/step - binary_accuracy: 0.5560 - loss: 0.6884 - val_binary_accuracy: 0.4980 - val_loss: 0.7406\n",
      "Epoch 14/100\n",
      "\u001b[1m43/43\u001b[0m \u001b[32m━━━━━━━━━━━━━━━━━━━━\u001b[0m\u001b[37m\u001b[0m \u001b[1m7s\u001b[0m 133ms/step - binary_accuracy: 0.5502 - loss: 0.6870 - val_binary_accuracy: 0.4996 - val_loss: 0.7396\n",
      "Epoch 15/100\n",
      "\u001b[1m43/43\u001b[0m \u001b[32m━━━━━━━━━━━━━━━━━━━━\u001b[0m\u001b[37m\u001b[0m \u001b[1m9s\u001b[0m 166ms/step - binary_accuracy: 0.5539 - loss: 0.6866 - val_binary_accuracy: 0.4981 - val_loss: 0.7403\n",
      "Epoch 16/100\n",
      "\u001b[1m43/43\u001b[0m \u001b[32m━━━━━━━━━━━━━━━━━━━━\u001b[0m\u001b[37m\u001b[0m \u001b[1m11s\u001b[0m 216ms/step - binary_accuracy: 0.5551 - loss: 0.6823 - val_binary_accuracy: 0.5001 - val_loss: 0.7376\n",
      "Epoch 17/100\n",
      "\u001b[1m43/43\u001b[0m \u001b[32m━━━━━━━━━━━━━━━━━━━━\u001b[0m\u001b[37m\u001b[0m \u001b[1m10s\u001b[0m 236ms/step - binary_accuracy: 0.5526 - loss: 0.6825 - val_binary_accuracy: 0.5014 - val_loss: 0.7387\n",
      "Epoch 18/100\n",
      "\u001b[1m43/43\u001b[0m \u001b[32m━━━━━━━━━━━━━━━━━━━━\u001b[0m\u001b[37m\u001b[0m \u001b[1m9s\u001b[0m 214ms/step - binary_accuracy: 0.5506 - loss: 0.6813 - val_binary_accuracy: 0.4998 - val_loss: 0.7390\n"
     ]
    }
   ],
   "source": [
    "model = Sequential([\n",
    "    LSTM(128, return_sequences=True, input_shape=(X_train.shape[1], X_train.shape[2]), kernel_regularizer=l2(0.001)),\n",
    "    Dropout(0.3), \n",
    "\n",
    "    LSTM(64, return_sequences=False),\n",
    "    Dropout(0.4),  \n",
    "\n",
    "    Dense(labels_train.shape[1], activation='sigmoid'),\n",
    "])\n",
    "\n",
    "\n",
    "model.compile(loss='binary_crossentropy', \n",
    "              optimizer=Adam(learning_rate=0.0001),   \n",
    "              metrics=['binary_accuracy',])\n",
    "\n",
    "cp = ModelCheckpoint(filepath='model_binary/best_binary.keras', \n",
    "                     save_best_only=True, monitor='val_loss', \n",
    "                     mode='min')\n",
    "\n",
    "es = EarlyStopping(\n",
    "    monitor='val_binary_accuracy',        \n",
    "    patience=10,                \n",
    "    restore_best_weights=True \n",
    ")\n",
    "\n",
    "history = model.fit(\n",
    "    X_train, labels_train,\n",
    "    epochs=100,\n",
    "    batch_size=64,\n",
    "    validation_data=(X_val, labels_val),\n",
    "    callbacks=[cp, es],\n",
    ")\n",
    "# model.summary()\n",
    "\n",
    "\n"
   ]
  },
  {
   "cell_type": "code",
   "execution_count": 27,
   "id": "7ce4655a",
   "metadata": {},
   "outputs": [
    {
     "data": {
      "image/png": "[encoded data removed]",
      "text/plain": [
       "<Figure size 1000x600 with 1 Axes>"
      ]
     },
     "metadata": {},
     "output_type": "display_data"
    }
   ],
   "source": [
    "plt.figure(figsize=(10, 6))\n",
    "plt.plot(history.history['loss'], label='Training Loss')\n",
    "plt.plot(history.history['val_loss'], label='Validation Loss')\n",
    "plt.xlabel('Epoch')\n",
    "plt.ylabel('Loss (crossentropy)')\n",
    "plt.legend()\n",
    "xticks = np.arange(1, 100, 5)\n",
    "plt.xticks(xticks)\n",
    "plt.title('Training and Validation Loss')\n",
    "plt.show()"
   ]
  },
  {
   "cell_type": "code",
   "execution_count": null,
   "id": "1cec1168",
   "metadata": {},
   "outputs": [
    {
     "name": "stdout",
     "output_type": "stream",
     "text": [
      "\u001b[1m10/10\u001b[0m \u001b[32m━━━━━━━━━━━━━━━━━━━━\u001b[0m\u001b[37m\u001b[0m \u001b[1m1s\u001b[0m 45ms/step\n",
      "Accuracy: 0.4965\n",
      "Precision: 0.5155\n",
      "Recall: 0.5084\n",
      "F1 Score: 0.5119\n",
      "AUC-ROC: 0.496\n",
      "Confusion Matrix:\n",
      "[[2378 2539]\n",
      " [2612 2701]]\n",
      "F1:\n",
      "Precision: 0.5154580152671756\n",
      "Recall: 0.5083756822887258\n"
     ]
    }
   ],
   "source": [
    "model = load_model('model_binary/best_binary.keras')\n",
    "index_series = data.index[-len(y_test):]\n",
    "\n",
    "y_pred = model.predict(X_test)\n",
    "# display(y_pred)\n",
    "\n",
    "y_pred_classes = (y_pred > 0.5).astype(int)\n",
    "\n",
    "Predict_result_df = pd.DataFrame(y_pred_classes, index=index_series, columns=data.columns)\n",
    "\n",
    "actual_flat = y_pred_classes.flatten()\n",
    "predicted_flat = labels_test.flatten()\n",
    "accuracy = accuracy_score(actual_flat, predicted_flat)\n",
    "precision = precision_score(actual_flat, predicted_flat)\n",
    "recall = recall_score(actual_flat, predicted_flat)\n",
    "f1 = f1_score(actual_flat, predicted_flat)\n",
    "roc_auc = roc_auc_score(actual_flat, predicted_flat)  \n",
    "cm = confusion_matrix(actual_flat, predicted_flat)\n",
    "\n",
    "print(f\"Accuracy: {accuracy:.4f}\")\n",
    "print(f\"Precision: {precision:.4f}\")\n",
    "print(f\"Recall: {recall:.4f}\")\n",
    "print(f\"F1 Score: {f1:.4f}\")\n",
    "print(f\"AUC-ROC: {roc_auc:.4}\")\n",
    "print(f\"Confusion Matrix:\\n{cm}\")\n",
    "f1_scor = f1_score(y_pred_classes.flatten(), labels_test.flatten())\n",
    "# display(Predict_result_df)\n",
    "print(\"F1:\", )\n",
    "print(\"Precision:\", precision_score(y_pred_classes.flatten(), labels_test.flatten()))\n",
    "print(\"Recall:\", recall_score(y_pred_classes.flatten(), labels_test.flatten()))"
   ]
  },
  {
   "cell_type": "code",
   "execution_count": 29,
   "id": "901d9db0",
   "metadata": {},
   "outputs": [
    {
     "name": "stdout",
     "output_type": "stream",
     "text": [
      "Accuracy: 0.4965\n"
     ]
    }
   ],
   "source": [
    "from sklearn.metrics import accuracy_score\n",
    "\n",
    "actual_flat = labels_test.flatten()\n",
    "predicted_flat = Predict_result_df.to_numpy().flatten()\n",
    "accuracy = accuracy_score(actual_flat, predicted_flat)\n",
    "\n",
    "print(f\"Accuracy: {accuracy:.4f}\")\n"
   ]
  }
 ],
 "metadata": {
  "kernelspec": {
   "display_name": "BAvenv",
   "language": "python",
   "name": "python3"
  },
  "language_info": {
   "codemirror_mode": {
    "name": "ipython",
    "version": 3
   },
   "file_extension": ".py",
   "mimetype": "text/x-python",
   "name": "python",
   "nbconvert_exporter": "python",
   "pygments_lexer": "ipython3",
   "version": "3.12.3"
  }
 },
 "nbformat": 4,
 "nbformat_minor": 5
}
